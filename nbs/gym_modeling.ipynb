{
 "cells": [
  {
   "cell_type": "markdown",
   "metadata": {},
   "source": [
    "## SETUP"
   ]
  },
  {
   "cell_type": "code",
   "execution_count": 9,
   "metadata": {},
   "outputs": [],
   "source": [
    "import warnings\n",
    "warnings.filterwarnings('ignore')"
   ]
  },
  {
   "cell_type": "code",
   "execution_count": 225,
   "metadata": {},
   "outputs": [],
   "source": [
    "import numpy as np\n",
    "import pandas as pd\n",
    "import re\n",
    "import matplotlib.pyplot as plt\n",
    "import seaborn as sns\n",
    "import json\n",
    "import datetime\n",
    "import itertools\n",
    "import pickle\n",
    "\n",
    "from sklearn.base import clone\n",
    "from sklearn.preprocessing import StandardScaler, Imputer, OneHotEncoder, LabelEncoder\n",
    "from sklearn.impute import IterativeImputer, SimpleImputer\n",
    "from sklearn.compose import ColumnTransformer, make_column_transformer\n",
    "from sklearn.pipeline import Pipeline, make_pipeline, make_union\n",
    "from sklearn.model_selection import train_test_split, KFold, GridSearchCV, RepeatedKFold, cross_val_score\n",
    "from sklearn.linear_model import LogisticRegression\n",
    "from sklearn.tree import DecisionTreeClassifier\n",
    "from sklearn.ensemble import RandomForestClassifier, GradientBoostingClassifier\n",
    "from sklearn.metrics import accuracy_score, classification_report, confusion_matrix, f1_score, roc_auc_score\n",
    "from sklearn.experimental import enable_iterative_imputer\n",
    "\n",
    "from yellowbrick.features.importances import FeatureImportances\n",
    "from yellowbrick.model_selection import LearningCurve\n",
    "from yellowbrick.classifier import PrecisionRecallCurve, ROCAUC\n",
    "from lime import lime_tabular"
   ]
  },
  {
   "cell_type": "code",
   "execution_count": 11,
   "metadata": {},
   "outputs": [],
   "source": [
    "from gensim import corpora\n",
    "from gensim.parsing.preprocessing import *\n",
    "import spacy\n",
    "# python -m spacy download en_core_web_sm \n",
    "import en_core_web_md\n",
    "nlp = spacy.load('en_core_web_md')"
   ]
  },
  {
   "cell_type": "code",
   "execution_count": 12,
   "metadata": {},
   "outputs": [],
   "source": [
    "#from helpers import *"
   ]
  },
  {
   "cell_type": "markdown",
   "metadata": {},
   "source": [
    "-----"
   ]
  },
  {
   "cell_type": "markdown",
   "metadata": {},
   "source": [
    "## PREPROCESSING"
   ]
  },
  {
   "cell_type": "markdown",
   "metadata": {},
   "source": [
    "#### **Preprocessing setup**"
   ]
  },
  {
   "cell_type": "code",
   "execution_count": 208,
   "metadata": {},
   "outputs": [],
   "source": [
    "train_csv = \"train.csv\"\n",
    "train_json = \"train.json\"\n",
    "test_csv = \"test.csv\"\n",
    "test_json = \"test.json\""
   ]
  },
  {
   "cell_type": "code",
   "execution_count": 54,
   "metadata": {},
   "outputs": [],
   "source": [
    "# text preprocessing\n",
    "custom_filters = [lambda x: x.lower(),\n",
    "                  strip_tags,\n",
    "                  strip_punctuation,\n",
    "                  strip_multiple_whitespaces,\n",
    "                  remove_stopwords]\n",
    "\n",
    "num_columns = ['daily_commute', 'friends_number', 'education', 'age',\\\n",
    "               'texts_fitness_score', 'groups_count', 'days_since_last_join']\n",
    "\n",
    "fit_words = ['gym', 'fitness', 'bike', 'weightlifting', 'squash', 'tennis',\\\n",
    "             'crossfit', 'bodybuilding', 'sport', 'excercise']"
   ]
  },
  {
   "cell_type": "markdown",
   "metadata": {},
   "source": [
    "#### **Helpers**"
   ]
  },
  {
   "cell_type": "code",
   "execution_count": 215,
   "metadata": {},
   "outputs": [],
   "source": [
    "def parse_memberships_json(json_path):\n",
    "    \"\"\"\n",
    "    Loads json file and returns flattened long table with group membership activities\n",
    "    Output format: user_id | group_name | date_joined\n",
    "    \"\"\"\n",
    "    with open(json_path) as f:  \n",
    "        dict_json = json.load(f)      \n",
    "    json_df = pd.io.json.json_normalize(dict_json['data'])\n",
    "    json_df.set_index('id', inplace=True)\n",
    "    \n",
    "    groups_activity=\\\n",
    "    (json_df['groups.data'].apply(pd.Series)\n",
    "     .stack()\n",
    "     .reset_index(level=1, drop=True)\n",
    "     .to_frame('membership_events')\n",
    "    )\n",
    "    groups_activity['groups_name'] = groups_activity['membership_events'].apply(lambda x: x['group_name'])\n",
    "    groups_activity['date_join'] = groups_activity['membership_events'].apply(lambda x: x['date_joined'])\n",
    "    groups_activity.drop(['membership_events'], axis=1, inplace=True)\n",
    "    groups_activity.reset_index(drop = False, inplace = True)\n",
    "    groups_activity['date_join'] = pd.to_datetime(groups_activity['date_join'].str[0:10], format='%Y/%m/%d')\n",
    "    return(groups_activity)\n",
    "\n",
    "\n",
    "def score_similarity(doc, seed):\n",
    "    # Calculates cosine distance between average of word vectors in the doc and provided template text\n",
    "    nlp_doc = nlp(doc)\n",
    "    return(nlp_doc.similarity(seed))\n",
    "\n",
    "\n",
    "def load_data(csv_path, json_path):\n",
    "    # Loads tabular and formatted json into pandas dataframe\n",
    "    df = pd.read_csv(csv_path)\n",
    "    input_json = parse_memberships_json(json_path)\n",
    "    return(df, input_json)\n",
    "\n",
    "\n",
    "def fill_gender(df):\n",
    "    # Fill missing gender using last lettern in the name\n",
    "    df['estimated_gender'] = np.where(df['name'].str[-1] == 'a', 'female', 'male')\n",
    "    df['sex'] = np.where(df['sex'].isna(), df['estimated_gender'], df['sex'])\n",
    "    return(df)\n",
    "\n",
    "\n",
    "def calculate_age(df):\n",
    "    # Calculate age using date of birth\n",
    "    df['dob'] = pd.to_datetime(df['dob'], format='%Y/%m/%d')\n",
    "    df['age'] = df['dob'].apply(lambda x: round((datetime.datetime.today() - x).days/365, 2))\n",
    "    return(df)\n",
    "\n",
    "\n",
    "def add_location_features(df):\n",
    "    # Creates discrete buckets from location population size and checks if a user changed her/his location \n",
    "    location_sizes = [\"small_loc\", \"medium_loc\", \"big_loc\"]\n",
    "    df['loc_size_now'] = pd.qcut(df['location_population'], 3, labels=location_sizes)\n",
    "    df['loc_size_past'] = pd.qcut(df['location_from_population'], 3, labels=[l + \"_past\" for l in location_sizes])\n",
    "    df['same_location'] = df['location'] == df['location_from']\n",
    "    return(df)\n",
    "\n",
    "\n",
    "def make_membership_features(input_json):\n",
    "    # Calculates a count of groups a user belongs to and number of days since last group join\n",
    "    groups_features =\\\n",
    "    (input_json\n",
    "     .groupby(['id'], as_index=False)\n",
    "     .agg({'groups_name': 'count', 'date_join': ['max']})\n",
    "    )\n",
    "    groups_features.columns = ['user_id', 'groups_count', \"max_join_date\"]\n",
    "    groups_features['days_since_last_join'] = groups_features['max_join_date'].apply(lambda x: round((datetime.datetime.today() - x).days, 2))\n",
    "    groups_features.drop(['max_join_date'], axis=1, inplace=True)\n",
    "    groups_features[\"user_id\"] = pd.to_numeric(groups_features[\"user_id\"])\n",
    "    return(groups_features)\n",
    "\n",
    "\n",
    "def make_texts_table(df, input_json):\n",
    "    # Joins hobbies and group names into one long dataframe\n",
    "    hobbies_txt = df[['user_id', 'hobbies']]; hobbies_txt.columns = ['user_id', 'txt']\n",
    "    groups_txt = input_json[['id', 'groups_name']]; groups_txt.columns = ['user_id', 'txt']\n",
    "    texts_df = pd.concat([hobbies_txt, groups_txt])\n",
    "    texts_df['txt'].fillna(\"No texts\", inplace=True)\n",
    "    return(texts_df)    \n",
    "\n",
    "\n",
    "def clean_texts(texts_df, text_prep_filters):\n",
    "    # Texts preprocessing using custom filters (lower, punctuation, whitespaces, stop words)\n",
    "    raw_corpus = texts_df['txt'].to_list()\n",
    "    texts = [preprocess_string(filters=text_prep_filters, s=text) for text in raw_corpus]\n",
    "    joined_texts = [\" \".join(text) for text in texts]\n",
    "    assert(len(joined_texts) == texts_df.shape[0])\n",
    "    return(joined_texts)\n",
    "\n",
    "\n",
    "def find_fit_words(texts_df, joined_texts, fit_words):\n",
    "    # Looks for fit related words (from provided list) in cleaned texts and creates boolean table with all users\n",
    "    has_words = [[w in t for w in fit_words] for t in joined_texts]\n",
    "    fit_words_df = pd.DataFrame(has_words)\n",
    "    fit_words_df.columns = fit_words\n",
    "    texts_df = texts_df.join(fit_words_df)\n",
    "    has_words_df = texts_df.groupby(['user_id']).any().drop(['txt'], axis=1)\n",
    "    return(has_words_df)\n",
    "\n",
    "\n",
    "def calc_text_fit_score(texts_df, joined_texts, fit_words):\n",
    "    \"\"\"\n",
    "    Calculates cosine distance between average of word vectors in\n",
    "    user texts and provided template text (fitness related) and takes max\n",
    "    \"\"\"\n",
    "    seed_joined = \" \".join(fit_words)\n",
    "    nlp = en_core_web_md.load()  #spacy\n",
    "    seed_doc = nlp(seed_joined)\n",
    "    texts_scores = [score_similarity(t, seed_doc) for t in joined_texts]\n",
    "    texts_df['texts_fitness_score'] = texts_scores\n",
    "    fitness_scores = texts_df.groupby([\"user_id\"]).agg({'texts_fitness_score': 'max'})\n",
    "    fitness_scores.reset_index(inplace=True)\n",
    "    return(fitness_scores)\n",
    "\n",
    "\n",
    "def make_input_df(csv_path, json_path, num_columns, fit_words, text_prep_filters):\n",
    "    \"\"\"\n",
    "    All non-parametric preprocessing steps to make dataframe input for sklearn pipeline:\n",
    "    - loading tabular data from csv\n",
    "    - loading and flattening json file\n",
    "    - filling missing gender with Name (trailing 'a' -> female)\n",
    "    - calculate age (today - dob)\n",
    "    - extract location features:\n",
    "        - 3 lvls buckets for size\n",
    "        - has_changed\n",
    "    - extract group membership features:\n",
    "        - number of groups\n",
    "        - number of days since last time joined a group\n",
    "    - extract text features (from hobbies + group_names):\n",
    "        - binary - includes top 10 fitness related words\n",
    "        - \"text fitness score\" - how fit related is given text\n",
    "    \"\"\"\n",
    "    \n",
    "    # Core features\n",
    "    df, input_json = load_data(csv_path, json_path)\n",
    "    df = fill_gender(df)\n",
    "    df = calculate_age(df)\n",
    "    df = add_location_features(df)\n",
    "    \n",
    "    # Group features\n",
    "    groups_features = make_membership_features(input_json)\n",
    "    df = df.merge(groups_features, on=\"user_id\", how=\"left\")\n",
    "    \n",
    "    # Text features\n",
    "    texts_df = make_texts_table(df, input_json)\n",
    "    joined_texts = clean_texts(texts_df, text_prep_filters)\n",
    "    has_fit_words = find_fit_words(texts_df, joined_texts, fit_words)\n",
    "    df = df.join(has_fit_words, on=\"user_id\", how=\"left\")\n",
    "    \n",
    "    fitness_scores = calc_text_fit_score(texts_df, joined_texts, fit_words)\n",
    "    df = df.merge(fitness_scores, on='user_id', how=\"left\")\n",
    "    \n",
    "    # Clean output\n",
    "    df[[\"same_location\"] + fit_words] = df[[\"same_location\"] + fit_words].replace(True, pd.Series(df.columns, df.columns))\n",
    "    df[[\"same_location\"] + fit_words] = df[[\"same_location\"] + fit_words].replace(False, pd.Series(\"not_\" + df.columns, df.columns))\n",
    "    df.drop(['dob', 'location', 'location_population', 'location_from',\\\n",
    "         'location_from_population', 'estimated_gender', 'name'], axis=1, inplace=True)\n",
    "    df[num_columns] = df[num_columns].apply(pd.to_numeric)\n",
    "    \n",
    "    return(df)\n",
    "    "
   ]
  },
  {
   "cell_type": "markdown",
   "metadata": {},
   "source": [
    "#### **Make development dataframe**"
   ]
  },
  {
   "cell_type": "code",
   "execution_count": 217,
   "metadata": {},
   "outputs": [
    {
     "name": "stdout",
     "output_type": "stream",
     "text": [
      "CPU times: user 2min 47s, sys: 356 ms, total: 2min 48s\n",
      "Wall time: 2min 48s\n"
     ]
    }
   ],
   "source": [
    "%%time\n",
    "df = make_input_df(csv_path=train_csv,\n",
    "                   json_path=train_json,\n",
    "                   num_columns=num_columns,\n",
    "                   fit_words=fit_words,\n",
    "                   text_prep_filters=custom_filters)"
   ]
  },
  {
   "cell_type": "code",
   "execution_count": 58,
   "metadata": {},
   "outputs": [
    {
     "data": {
      "text/html": [
       "<div>\n",
       "<style scoped>\n",
       "    .dataframe tbody tr th:only-of-type {\n",
       "        vertical-align: middle;\n",
       "    }\n",
       "\n",
       "    .dataframe tbody tr th {\n",
       "        vertical-align: top;\n",
       "    }\n",
       "\n",
       "    .dataframe thead th {\n",
       "        text-align: right;\n",
       "    }\n",
       "</style>\n",
       "<table border=\"1\" class=\"dataframe\">\n",
       "  <thead>\n",
       "    <tr style=\"text-align: right;\">\n",
       "      <th></th>\n",
       "      <th>0</th>\n",
       "      <th>1</th>\n",
       "      <th>2</th>\n",
       "      <th>3</th>\n",
       "      <th>4</th>\n",
       "    </tr>\n",
       "  </thead>\n",
       "  <tbody>\n",
       "    <tr>\n",
       "      <th>user_id</th>\n",
       "      <td>0</td>\n",
       "      <td>1</td>\n",
       "      <td>2</td>\n",
       "      <td>3</td>\n",
       "      <td>4</td>\n",
       "    </tr>\n",
       "    <tr>\n",
       "      <th>target</th>\n",
       "      <td>1</td>\n",
       "      <td>0</td>\n",
       "      <td>1</td>\n",
       "      <td>0</td>\n",
       "      <td>0</td>\n",
       "    </tr>\n",
       "    <tr>\n",
       "      <th>sex</th>\n",
       "      <td>female</td>\n",
       "      <td>male</td>\n",
       "      <td>male</td>\n",
       "      <td>female</td>\n",
       "      <td>male</td>\n",
       "    </tr>\n",
       "    <tr>\n",
       "      <th>occupation</th>\n",
       "      <td>Teaching professionals</td>\n",
       "      <td>General and keyboard clerks</td>\n",
       "      <td>Protective services workers</td>\n",
       "      <td>Customer services clerks</td>\n",
       "      <td>Refuse workers and other elementary workers</td>\n",
       "    </tr>\n",
       "    <tr>\n",
       "      <th>hobbies</th>\n",
       "      <td>Fitness</td>\n",
       "      <td>LARPing,Foreign language learning,Netball</td>\n",
       "      <td>Bodybuilding,Kabaddi</td>\n",
       "      <td>Badminton</td>\n",
       "      <td>Fitness,Embroidery,Lacemaking</td>\n",
       "    </tr>\n",
       "    <tr>\n",
       "      <th>daily_commute</th>\n",
       "      <td>46</td>\n",
       "      <td>55</td>\n",
       "      <td>90</td>\n",
       "      <td>88</td>\n",
       "      <td>40</td>\n",
       "    </tr>\n",
       "    <tr>\n",
       "      <th>friends_number</th>\n",
       "      <td>196</td>\n",
       "      <td>243</td>\n",
       "      <td>191</td>\n",
       "      <td>164</td>\n",
       "      <td>119</td>\n",
       "    </tr>\n",
       "    <tr>\n",
       "      <th>relationship_status</th>\n",
       "      <td>Single</td>\n",
       "      <td>Single</td>\n",
       "      <td>In relationship</td>\n",
       "      <td>In relationship</td>\n",
       "      <td>Married with kids</td>\n",
       "    </tr>\n",
       "    <tr>\n",
       "      <th>education</th>\n",
       "      <td>NaN</td>\n",
       "      <td>NaN</td>\n",
       "      <td>3</td>\n",
       "      <td>3</td>\n",
       "      <td>5</td>\n",
       "    </tr>\n",
       "    <tr>\n",
       "      <th>credit_card_type</th>\n",
       "      <td>Visa</td>\n",
       "      <td>NaN</td>\n",
       "      <td>NaN</td>\n",
       "      <td>Visa</td>\n",
       "      <td>NaN</td>\n",
       "    </tr>\n",
       "    <tr>\n",
       "      <th>age</th>\n",
       "      <td>36.93</td>\n",
       "      <td>47.71</td>\n",
       "      <td>19</td>\n",
       "      <td>27.08</td>\n",
       "      <td>44.51</td>\n",
       "    </tr>\n",
       "    <tr>\n",
       "      <th>loc_size_now</th>\n",
       "      <td>small_loc</td>\n",
       "      <td>small_loc</td>\n",
       "      <td>small_loc</td>\n",
       "      <td>big_loc</td>\n",
       "      <td>small_loc</td>\n",
       "    </tr>\n",
       "    <tr>\n",
       "      <th>loc_size_past</th>\n",
       "      <td>small_loc_past</td>\n",
       "      <td>small_loc_past</td>\n",
       "      <td>small_loc_past</td>\n",
       "      <td>big_loc_past</td>\n",
       "      <td>big_loc_past</td>\n",
       "    </tr>\n",
       "    <tr>\n",
       "      <th>same_location</th>\n",
       "      <td>same_location</td>\n",
       "      <td>same_location</td>\n",
       "      <td>same_location</td>\n",
       "      <td>same_location</td>\n",
       "      <td>not_same_location</td>\n",
       "    </tr>\n",
       "    <tr>\n",
       "      <th>groups_count</th>\n",
       "      <td>4</td>\n",
       "      <td>5</td>\n",
       "      <td>4</td>\n",
       "      <td>3</td>\n",
       "      <td>7</td>\n",
       "    </tr>\n",
       "    <tr>\n",
       "      <th>days_since_last_join</th>\n",
       "      <td>2707</td>\n",
       "      <td>3202</td>\n",
       "      <td>3164</td>\n",
       "      <td>3134</td>\n",
       "      <td>2518</td>\n",
       "    </tr>\n",
       "    <tr>\n",
       "      <th>gym</th>\n",
       "      <td>not_gym</td>\n",
       "      <td>not_gym</td>\n",
       "      <td>not_gym</td>\n",
       "      <td>not_gym</td>\n",
       "      <td>not_gym</td>\n",
       "    </tr>\n",
       "    <tr>\n",
       "      <th>fitness</th>\n",
       "      <td>fitness</td>\n",
       "      <td>not_fitness</td>\n",
       "      <td>not_fitness</td>\n",
       "      <td>not_fitness</td>\n",
       "      <td>fitness</td>\n",
       "    </tr>\n",
       "    <tr>\n",
       "      <th>bike</th>\n",
       "      <td>not_bike</td>\n",
       "      <td>not_bike</td>\n",
       "      <td>not_bike</td>\n",
       "      <td>not_bike</td>\n",
       "      <td>not_bike</td>\n",
       "    </tr>\n",
       "    <tr>\n",
       "      <th>weightlifting</th>\n",
       "      <td>not_weightlifting</td>\n",
       "      <td>not_weightlifting</td>\n",
       "      <td>not_weightlifting</td>\n",
       "      <td>not_weightlifting</td>\n",
       "      <td>not_weightlifting</td>\n",
       "    </tr>\n",
       "    <tr>\n",
       "      <th>squash</th>\n",
       "      <td>not_squash</td>\n",
       "      <td>not_squash</td>\n",
       "      <td>not_squash</td>\n",
       "      <td>not_squash</td>\n",
       "      <td>not_squash</td>\n",
       "    </tr>\n",
       "    <tr>\n",
       "      <th>tennis</th>\n",
       "      <td>not_tennis</td>\n",
       "      <td>not_tennis</td>\n",
       "      <td>not_tennis</td>\n",
       "      <td>not_tennis</td>\n",
       "      <td>not_tennis</td>\n",
       "    </tr>\n",
       "    <tr>\n",
       "      <th>crossfit</th>\n",
       "      <td>not_crossfit</td>\n",
       "      <td>not_crossfit</td>\n",
       "      <td>not_crossfit</td>\n",
       "      <td>not_crossfit</td>\n",
       "      <td>not_crossfit</td>\n",
       "    </tr>\n",
       "    <tr>\n",
       "      <th>bodybuilding</th>\n",
       "      <td>not_bodybuilding</td>\n",
       "      <td>not_bodybuilding</td>\n",
       "      <td>bodybuilding</td>\n",
       "      <td>not_bodybuilding</td>\n",
       "      <td>not_bodybuilding</td>\n",
       "    </tr>\n",
       "    <tr>\n",
       "      <th>sport</th>\n",
       "      <td>not_sport</td>\n",
       "      <td>not_sport</td>\n",
       "      <td>not_sport</td>\n",
       "      <td>not_sport</td>\n",
       "      <td>not_sport</td>\n",
       "    </tr>\n",
       "    <tr>\n",
       "      <th>excercise</th>\n",
       "      <td>not_excercise</td>\n",
       "      <td>not_excercise</td>\n",
       "      <td>not_excercise</td>\n",
       "      <td>not_excercise</td>\n",
       "      <td>not_excercise</td>\n",
       "    </tr>\n",
       "    <tr>\n",
       "      <th>texts_fitness_score</th>\n",
       "      <td>0.842113</td>\n",
       "      <td>0.810684</td>\n",
       "      <td>0.704831</td>\n",
       "      <td>0.582018</td>\n",
       "      <td>0.55656</td>\n",
       "    </tr>\n",
       "  </tbody>\n",
       "</table>\n",
       "</div>"
      ],
      "text/plain": [
       "                                           0  \\\n",
       "user_id                                    0   \n",
       "target                                     1   \n",
       "sex                                   female   \n",
       "occupation            Teaching professionals   \n",
       "hobbies                              Fitness   \n",
       "daily_commute                             46   \n",
       "friends_number                           196   \n",
       "relationship_status                   Single   \n",
       "education                                NaN   \n",
       "credit_card_type                        Visa   \n",
       "age                                    36.93   \n",
       "loc_size_now                       small_loc   \n",
       "loc_size_past                 small_loc_past   \n",
       "same_location                  same_location   \n",
       "groups_count                               4   \n",
       "days_since_last_join                    2707   \n",
       "gym                                  not_gym   \n",
       "fitness                              fitness   \n",
       "bike                                not_bike   \n",
       "weightlifting              not_weightlifting   \n",
       "squash                            not_squash   \n",
       "tennis                            not_tennis   \n",
       "crossfit                        not_crossfit   \n",
       "bodybuilding                not_bodybuilding   \n",
       "sport                              not_sport   \n",
       "excercise                      not_excercise   \n",
       "texts_fitness_score                 0.842113   \n",
       "\n",
       "                                                              1  \\\n",
       "user_id                                                       1   \n",
       "target                                                        0   \n",
       "sex                                                        male   \n",
       "occupation                          General and keyboard clerks   \n",
       "hobbies               LARPing,Foreign language learning,Netball   \n",
       "daily_commute                                                55   \n",
       "friends_number                                              243   \n",
       "relationship_status                                      Single   \n",
       "education                                                   NaN   \n",
       "credit_card_type                                            NaN   \n",
       "age                                                       47.71   \n",
       "loc_size_now                                          small_loc   \n",
       "loc_size_past                                    small_loc_past   \n",
       "same_location                                     same_location   \n",
       "groups_count                                                  5   \n",
       "days_since_last_join                                       3202   \n",
       "gym                                                     not_gym   \n",
       "fitness                                             not_fitness   \n",
       "bike                                                   not_bike   \n",
       "weightlifting                                 not_weightlifting   \n",
       "squash                                               not_squash   \n",
       "tennis                                               not_tennis   \n",
       "crossfit                                           not_crossfit   \n",
       "bodybuilding                                   not_bodybuilding   \n",
       "sport                                                 not_sport   \n",
       "excercise                                         not_excercise   \n",
       "texts_fitness_score                                    0.810684   \n",
       "\n",
       "                                                2                         3  \\\n",
       "user_id                                         2                         3   \n",
       "target                                          1                         0   \n",
       "sex                                          male                    female   \n",
       "occupation            Protective services workers  Customer services clerks   \n",
       "hobbies                      Bodybuilding,Kabaddi                 Badminton   \n",
       "daily_commute                                  90                        88   \n",
       "friends_number                                191                       164   \n",
       "relationship_status               In relationship           In relationship   \n",
       "education                                       3                         3   \n",
       "credit_card_type                              NaN                      Visa   \n",
       "age                                            19                     27.08   \n",
       "loc_size_now                            small_loc                   big_loc   \n",
       "loc_size_past                      small_loc_past              big_loc_past   \n",
       "same_location                       same_location             same_location   \n",
       "groups_count                                    4                         3   \n",
       "days_since_last_join                         3164                      3134   \n",
       "gym                                       not_gym                   not_gym   \n",
       "fitness                               not_fitness               not_fitness   \n",
       "bike                                     not_bike                  not_bike   \n",
       "weightlifting                   not_weightlifting         not_weightlifting   \n",
       "squash                                 not_squash                not_squash   \n",
       "tennis                                 not_tennis                not_tennis   \n",
       "crossfit                             not_crossfit              not_crossfit   \n",
       "bodybuilding                         bodybuilding          not_bodybuilding   \n",
       "sport                                   not_sport                 not_sport   \n",
       "excercise                           not_excercise             not_excercise   \n",
       "texts_fitness_score                      0.704831                  0.582018   \n",
       "\n",
       "                                                                4  \n",
       "user_id                                                         4  \n",
       "target                                                          0  \n",
       "sex                                                          male  \n",
       "occupation            Refuse workers and other elementary workers  \n",
       "hobbies                             Fitness,Embroidery,Lacemaking  \n",
       "daily_commute                                                  40  \n",
       "friends_number                                                119  \n",
       "relationship_status                             Married with kids  \n",
       "education                                                       5  \n",
       "credit_card_type                                              NaN  \n",
       "age                                                         44.51  \n",
       "loc_size_now                                            small_loc  \n",
       "loc_size_past                                        big_loc_past  \n",
       "same_location                                   not_same_location  \n",
       "groups_count                                                    7  \n",
       "days_since_last_join                                         2518  \n",
       "gym                                                       not_gym  \n",
       "fitness                                                   fitness  \n",
       "bike                                                     not_bike  \n",
       "weightlifting                                   not_weightlifting  \n",
       "squash                                                 not_squash  \n",
       "tennis                                                 not_tennis  \n",
       "crossfit                                             not_crossfit  \n",
       "bodybuilding                                     not_bodybuilding  \n",
       "sport                                                   not_sport  \n",
       "excercise                                           not_excercise  \n",
       "texts_fitness_score                                       0.55656  "
      ]
     },
     "execution_count": 58,
     "metadata": {},
     "output_type": "execute_result"
    }
   ],
   "source": [
    "df.head().T"
   ]
  },
  {
   "cell_type": "markdown",
   "metadata": {},
   "source": [
    "#### **Make development arrays**"
   ]
  },
  {
   "cell_type": "code",
   "execution_count": 71,
   "metadata": {},
   "outputs": [],
   "source": [
    "y_dev = df['target'].values\n",
    "x_df = df.drop(['user_id', 'target', 'occupation', 'hobbies'], axis=1)\n",
    "all_columns = x_df.columns\n",
    "cat_columns = list(set(all_columns) - set(num_columns))"
   ]
  },
  {
   "cell_type": "code",
   "execution_count": 72,
   "metadata": {},
   "outputs": [],
   "source": [
    "num_pipe = Pipeline([\n",
    "    ('simple_imputer', Imputer(strategy='median')),\n",
    "    ('scaler', StandardScaler())\n",
    "])\n",
    "\n",
    "cat_pipe = Pipeline([\n",
    "    ('con_imputer', SimpleImputer(strategy='constant', fill_value='misasing')),\n",
    "    ('one_hot', OneHotEncoder())\n",
    "])\n",
    "\n",
    "full_pipe = ColumnTransformer(\n",
    "    transformers=[\n",
    "    ('num_pipe', num_pipe, num_columns),\n",
    "    ('cat_pipe', cat_pipe, cat_columns)\n",
    "])"
   ]
  },
  {
   "cell_type": "code",
   "execution_count": 75,
   "metadata": {},
   "outputs": [
    {
     "name": "stdout",
     "output_type": "stream",
     "text": [
      "(4000, 47)\n"
     ]
    }
   ],
   "source": [
    "X_dev = full_pipe.fit_transform(x_df)\n",
    "print(x_dev.shape)"
   ]
  },
  {
   "cell_type": "markdown",
   "metadata": {},
   "source": [
    "----"
   ]
  },
  {
   "cell_type": "markdown",
   "metadata": {},
   "source": [
    "## MODELING"
   ]
  },
  {
   "cell_type": "markdown",
   "metadata": {},
   "source": [
    "#### **Choose model**"
   ]
  },
  {
   "cell_type": "code",
   "execution_count": 96,
   "metadata": {},
   "outputs": [
    {
     "name": "stdout",
     "output_type": "stream",
     "text": [
      "CPU times: user 28.5 s, sys: 164 ms, total: 28.7 s\n",
      "Wall time: 25.8 s\n"
     ]
    }
   ],
   "source": [
    "%%time\n",
    "models = [LogisticRegression, RandomForestClassifier, GradientBoostingClassifier]\n",
    "all_scores = []\n",
    "for m in models:\n",
    "    model = m()\n",
    "    model_scores = []\n",
    "    k_fold = RepeatedKFold(n_splits=5, n_repeats=10, random_state=23)\n",
    "    for train_index, val_index in k_fold.split(X_dev):\n",
    "        X_train, X_val = X_dev[train_index], X_dev[val_index]\n",
    "        y_train, y_val = y_dev[train_index], y_dev[val_index]\n",
    "        model.fit(X = X_train, y = y_train)\n",
    "        preds = model.predict(X_val)\n",
    "        score_test = f1_score(y_val, preds, average = 'macro')\n",
    "        model_scores.append(score_test)\n",
    "    all_scores.append(model_scores)"
   ]
  },
  {
   "cell_type": "code",
   "execution_count": 97,
   "metadata": {},
   "outputs": [
    {
     "data": {
      "image/png": "[encoded data removed]",
      "text/plain": [
       "<Figure size 1152x432 with 1 Axes>"
      ]
     },
     "metadata": {
      "needs_background": "light"
     },
     "output_type": "display_data"
    }
   ],
   "source": [
    "models_names = [re.findall(r\"'[^'']*'\", str(models[idx]))[0] for idx in range(len(models))]\n",
    "plt.figure().set_size_inches(16, 6)\n",
    "ax = sns.boxplot(x=models_names, y=all_scores)"
   ]
  },
  {
   "cell_type": "markdown",
   "metadata": {},
   "source": [
    "#### **Grid search for selected hyperparameters**"
   ]
  },
  {
   "cell_type": "code",
   "execution_count": 116,
   "metadata": {},
   "outputs": [],
   "source": [
    "parameters = {\n",
    "    \"learning_rate\": [0.05, 0.075, 0.1, 0.15, 0.2],\n",
    "    \"min_samples_split\": [2, 4, 6],\n",
    "    \"min_samples_leaf\": [1, 2, 4],\n",
    "    \"max_depth\":[2, 3, 5, 7],\n",
    "    \"n_estimators\":[10, 50, 100, 150]\n",
    "    }"
   ]
  },
  {
   "cell_type": "code",
   "execution_count": 117,
   "metadata": {},
   "outputs": [
    {
     "name": "stdout",
     "output_type": "stream",
     "text": [
      "CPU times: user 22.3 s, sys: 1.16 s, total: 23.4 s\n",
      "Wall time: 25min 10s\n"
     ]
    }
   ],
   "source": [
    "%%time\n",
    "model = GradientBoostingClassifier()\n",
    "grid_log = GridSearchCV(model, param_grid=parameters, cv=10, refit=True, n_jobs=-1)\n",
    "grid_log.fit(X_dev, y_dev)"
   ]
  },
  {
   "cell_type": "code",
   "execution_count": 155,
   "metadata": {},
   "outputs": [
    {
     "name": "stdout",
     "output_type": "stream",
     "text": [
      "{'learning_rate': 0.075, 'max_depth': 2, 'min_samples_leaf': 1, 'min_samples_split': 2, 'n_estimators': 150}\n"
     ]
    }
   ],
   "source": [
    "print(grid_log.best_params_)"
   ]
  },
  {
   "cell_type": "code",
   "execution_count": 118,
   "metadata": {},
   "outputs": [
    {
     "name": "stdout",
     "output_type": "stream",
     "text": [
      "Accuracy: 0.88 (+/- 0.03)\n"
     ]
    }
   ],
   "source": [
    "final_model = grid_log.best_estimator_\n",
    "scores = cross_val_score(final_model, X_dev, y_dev, cv=10)\n",
    "print(\"Accuracy: %0.2f (+/- %0.2f)\" % (scores.mean(), scores.std() * 2))"
   ]
  },
  {
   "cell_type": "code",
   "execution_count": 122,
   "metadata": {},
   "outputs": [],
   "source": [
    "with open('final_model', 'wb') as f:\n",
    "    pickle.dump(final_model, f, pickle.HIGHEST_PROTOCOL)"
   ]
  },
  {
   "cell_type": "markdown",
   "metadata": {},
   "source": [
    "____"
   ]
  },
  {
   "cell_type": "markdown",
   "metadata": {},
   "source": [
    "## VALIDATION & INTERPRETATION"
   ]
  },
  {
   "cell_type": "code",
   "execution_count": 157,
   "metadata": {},
   "outputs": [
    {
     "data": {
      "text/plain": [
       "GradientBoostingClassifier(criterion='friedman_mse', init=None,\n",
       "                           learning_rate=0.075, loss='deviance', max_depth=2,\n",
       "                           max_features=None, max_leaf_nodes=None,\n",
       "                           min_impurity_decrease=0.0, min_impurity_split=None,\n",
       "                           min_samples_leaf=1, min_samples_split=2,\n",
       "                           min_weight_fraction_leaf=0.0, n_estimators=150,\n",
       "                           n_iter_no_change=None, presort='auto',\n",
       "                           random_state=None, subsample=1.0, tol=0.0001,\n",
       "                           validation_fraction=0.1, verbose=0,\n",
       "                           warm_start=False)"
      ]
     },
     "execution_count": 157,
     "metadata": {},
     "output_type": "execute_result"
    }
   ],
   "source": [
    "X_train, X_test, y_train, y_test = train_test_split(x_dev, y_dev, test_size=0.2, random_state=123)\n",
    "model = clone(grid_log.best_estimator_)\n",
    "model.fit(X_train, y_train)"
   ]
  },
  {
   "cell_type": "code",
   "execution_count": null,
   "metadata": {},
   "outputs": [],
   "source": [
    "print(confusion_matrix(y_test, y_preds))"
   ]
  },
  {
   "cell_type": "code",
   "execution_count": 158,
   "metadata": {},
   "outputs": [
    {
     "name": "stdout",
     "output_type": "stream",
     "text": [
      "              precision    recall  f1-score   support\n",
      "\n",
      "           0       0.89      0.97      0.93       632\n",
      "           1       0.84      0.55      0.66       168\n",
      "\n",
      "    accuracy                           0.88       800\n",
      "   macro avg       0.87      0.76      0.80       800\n",
      "weighted avg       0.88      0.88      0.87       800\n",
      "\n"
     ]
    }
   ],
   "source": [
    "y_preds = model.predict(X_test)\n",
    "print(classification_report(y_test, y_preds))"
   ]
  },
  {
   "cell_type": "markdown",
   "metadata": {},
   "source": [
    "#### **Precision vs Recall**"
   ]
  },
  {
   "cell_type": "code",
   "execution_count": 161,
   "metadata": {},
   "outputs": [
    {
     "data": {
      "image/png": "[encoded data removed]",
      "text/plain": [
       "<Figure size 720x432 with 1 Axes>"
      ]
     },
     "metadata": {
      "needs_background": "light"
     },
     "output_type": "display_data"
    }
   ],
   "source": [
    "plt.figure().set_size_inches(10, 6)\n",
    "viz = PrecisionRecallCurve(model)\n",
    "viz.fit(X_train, y_train)\n",
    "viz.score(X_test, y_test)\n",
    "viz.poof()"
   ]
  },
  {
   "cell_type": "markdown",
   "metadata": {},
   "source": [
    "#### **ROC Curves**"
   ]
  },
  {
   "cell_type": "code",
   "execution_count": 159,
   "metadata": {},
   "outputs": [
    {
     "data": {
      "image/png": "[encoded data removed]",
      "text/plain": [
       "<Figure size 720x432 with 1 Axes>"
      ]
     },
     "metadata": {
      "needs_background": "light"
     },
     "output_type": "display_data"
    }
   ],
   "source": [
    "plt.figure().set_size_inches(10, 6)\n",
    "visualizer = ROCAUC(model, classes=[0, 1])\n",
    "visualizer.fit(X_train, y_train)\n",
    "visualizer.score(X_test, y_test)\n",
    "g = visualizer.poof()"
   ]
  },
  {
   "cell_type": "markdown",
   "metadata": {},
   "source": [
    "#### **Features importance**"
   ]
  },
  {
   "cell_type": "code",
   "execution_count": 167,
   "metadata": {},
   "outputs": [
    {
     "name": "stdout",
     "output_type": "stream",
     "text": [
      "['daily_commute', 'friends_number', 'education', 'age', 'texts_fitness_score', 'groups_count', 'days_since_last_join', 'x0_big_loc', 'x0_medium_loc', 'x0_small_loc', 'x1_not_sport', 'x1_sport', 'x2_not_same_location', 'x2_same_location', 'x3_not_squash', 'x3_squash', 'x4_not_tennis', 'x4_tennis', 'x5_fitness', 'x5_not_fitness', 'x6_American Express', 'x6_Mastercard', 'x6_Revolut', 'x6_Visa', 'x6_misasing', 'x7_not_weightlifting', 'x7_weightlifting', 'x8_female', 'x8_male', 'x9_big_loc_past', 'x9_medium_loc_past', 'x9_small_loc_past', 'x10_gym', 'x10_not_gym', 'x11_bike', 'x11_not_bike', 'x12_Divorced', 'x12_In relationship', 'x12_Married', 'x12_Married with kids', 'x12_Single', 'x12_misasing', 'x13_crossfit', 'x13_not_crossfit', 'x14_not_excercise', 'x15_bodybuilding', 'x15_not_bodybuilding']\n"
     ]
    }
   ],
   "source": [
    "clf = Pipeline(steps=[('preprocessor', full_pipe), ('regressor', LogisticRegression())])\n",
    "_ = clf.fit(df, y_dev)\n",
    "num_features = clf.named_steps['preprocessor'].transformers_[0][2]\n",
    "cat_features = list(clf.named_steps['preprocessor'].transformers_[1][1].named_steps['one_hot'].get_feature_names())\n",
    "feature_names = num_features + cat_features\n",
    "assert(len(feature_names) == x_dev.shape[1])"
   ]
  },
  {
   "cell_type": "code",
   "execution_count": 194,
   "metadata": {},
   "outputs": [
    {
     "data": {
      "image/png": "[encoded data removed]",
      "text/plain": [
       "<Figure size 720x576 with 1 Axes>"
      ]
     },
     "metadata": {
      "needs_background": "light"
     },
     "output_type": "display_data"
    }
   ],
   "source": [
    "fig = plt.figure()\n",
    "fig.set_size_inches(10, 8)\n",
    "ax = fig.add_subplot()\n",
    "viz = FeatureImportances(model, ax=ax)\n",
    "viz.fit(X_train, y_train)\n",
    "viz.poof()"
   ]
  },
  {
   "cell_type": "code",
   "execution_count": 195,
   "metadata": {},
   "outputs": [],
   "source": [
    "ordered_features = [feature_names[idx] for idx in list(viz.features_)]\n",
    "features_importance = list(viz.feature_importances_)\n",
    "ordered_features.reverse(); features_importance.reverse()"
   ]
  },
  {
   "cell_type": "code",
   "execution_count": 196,
   "metadata": {},
   "outputs": [
    {
     "data": {
      "text/html": [
       "<div>\n",
       "<style scoped>\n",
       "    .dataframe tbody tr th:only-of-type {\n",
       "        vertical-align: middle;\n",
       "    }\n",
       "\n",
       "    .dataframe tbody tr th {\n",
       "        vertical-align: top;\n",
       "    }\n",
       "\n",
       "    .dataframe thead th {\n",
       "        text-align: right;\n",
       "    }\n",
       "</style>\n",
       "<table border=\"1\" class=\"dataframe\">\n",
       "  <thead>\n",
       "    <tr style=\"text-align: right;\">\n",
       "      <th></th>\n",
       "      <th>feature_name</th>\n",
       "      <th>feature_importance</th>\n",
       "    </tr>\n",
       "  </thead>\n",
       "  <tbody>\n",
       "    <tr>\n",
       "      <th>0</th>\n",
       "      <td>groups_count</td>\n",
       "      <td>100.000000</td>\n",
       "    </tr>\n",
       "    <tr>\n",
       "      <th>1</th>\n",
       "      <td>friends_number</td>\n",
       "      <td>53.730024</td>\n",
       "    </tr>\n",
       "    <tr>\n",
       "      <th>2</th>\n",
       "      <td>x12_Single</td>\n",
       "      <td>28.101298</td>\n",
       "    </tr>\n",
       "    <tr>\n",
       "      <th>3</th>\n",
       "      <td>age</td>\n",
       "      <td>25.933067</td>\n",
       "    </tr>\n",
       "    <tr>\n",
       "      <th>4</th>\n",
       "      <td>x12_Married with kids</td>\n",
       "      <td>12.249886</td>\n",
       "    </tr>\n",
       "    <tr>\n",
       "      <th>5</th>\n",
       "      <td>x8_male</td>\n",
       "      <td>3.065025</td>\n",
       "    </tr>\n",
       "    <tr>\n",
       "      <th>6</th>\n",
       "      <td>x11_bike</td>\n",
       "      <td>2.700563</td>\n",
       "    </tr>\n",
       "    <tr>\n",
       "      <th>7</th>\n",
       "      <td>x10_gym</td>\n",
       "      <td>2.155223</td>\n",
       "    </tr>\n",
       "    <tr>\n",
       "      <th>8</th>\n",
       "      <td>x7_not_weightlifting</td>\n",
       "      <td>1.881523</td>\n",
       "    </tr>\n",
       "    <tr>\n",
       "      <th>9</th>\n",
       "      <td>x11_not_bike</td>\n",
       "      <td>1.646528</td>\n",
       "    </tr>\n",
       "  </tbody>\n",
       "</table>\n",
       "</div>"
      ],
      "text/plain": [
       "            feature_name  feature_importance\n",
       "0           groups_count          100.000000\n",
       "1         friends_number           53.730024\n",
       "2             x12_Single           28.101298\n",
       "3                    age           25.933067\n",
       "4  x12_Married with kids           12.249886\n",
       "5                x8_male            3.065025\n",
       "6               x11_bike            2.700563\n",
       "7                x10_gym            2.155223\n",
       "8   x7_not_weightlifting            1.881523\n",
       "9           x11_not_bike            1.646528"
      ]
     },
     "execution_count": 196,
     "metadata": {},
     "output_type": "execute_result"
    }
   ],
   "source": [
    "pd.DataFrame({\"feature_name\": ordered_features, \"feature_importance\": features_importance}).head(10)"
   ]
  },
  {
   "cell_type": "markdown",
   "metadata": {},
   "source": [
    "____"
   ]
  },
  {
   "cell_type": "markdown",
   "metadata": {},
   "source": [
    "## TEST PREDICTIONS"
   ]
  },
  {
   "cell_type": "code",
   "execution_count": 78,
   "metadata": {},
   "outputs": [
    {
     "name": "stdout",
     "output_type": "stream",
     "text": [
      "CPU times: user 2min 37s, sys: 636 ms, total: 2min 38s\n",
      "Wall time: 2min 38s\n"
     ]
    }
   ],
   "source": [
    "%%time\n",
    "df_test = make_input_df(csv_path=test_csv,\n",
    "                   json_path=train_json,\n",
    "                   num_columns=num_columns,\n",
    "                   fit_words=fit_words,\n",
    "                   text_prep_filters=custom_filters)"
   ]
  },
  {
   "cell_type": "code",
   "execution_count": 147,
   "metadata": {},
   "outputs": [
    {
     "name": "stdout",
     "output_type": "stream",
     "text": [
      "(2000, 47)\n"
     ]
    }
   ],
   "source": [
    "x_df_test = df_test.drop(['user_id', 'target', 'occupation', 'hobbies'], axis=1)\n",
    "X_test = full_pipe.transform(x_df_test)\n",
    "assert(x_dev.shape[1] == X_test.shape[1])\n",
    "print(X_test.shape)"
   ]
  },
  {
   "cell_type": "code",
   "execution_count": 154,
   "metadata": {},
   "outputs": [],
   "source": [
    "submission = pd.DataFrame(columns=['user_id', 'prob', 'pred'])\n",
    "submission['user_id'] = df_test['user_id']\n",
    "submission['prob'] = final_model.predict_proba(X_test)\n",
    "submission['pred'] = final_model.predict(X_test)\n",
    "submission.to_csv(\"test_predictions.csv\", index=False)"
   ]
  },
  {
   "cell_type": "code",
   "execution_count": null,
   "metadata": {},
   "outputs": [],
   "source": []
  },
  {
   "cell_type": "markdown",
   "metadata": {},
   "source": [
    "<center>THE END</center>"
   ]
  }
 ],
 "metadata": {
  "kernelspec": {
   "display_name": "Python 3",
   "language": "python",
   "name": "python3"
  },
  "language_info": {
   "codemirror_mode": {
    "name": "ipython",
    "version": 3
   },
   "file_extension": ".py",
   "mimetype": "text/x-python",
   "name": "python",
   "nbconvert_exporter": "python",
   "pygments_lexer": "ipython3",
   "version": "3.7.3"
  }
 },
 "nbformat": 4,
 "nbformat_minor": 2
}
