{
 "cells": [
  {
   "cell_type": "markdown",
   "metadata": {},
   "source": [
    "## PLAsTiCC supernova classification - CNN approach"
   ]
  },
  {
   "cell_type": "markdown",
   "metadata": {},
   "source": [
    "- In this notebook i try to classify supernova stars based on photometry recordings as shared with [PLAsTiCC dataset](https://plasticc.org) released together with this [kaggle competition](https://www.kaggle.com/c/PLAsTiCC-2018).\n",
    "- The dataset has been syntheticaly created in order to help astronomers prepare for new [Large Synoptic Survey Telescope](https://lsst-tvssc.github.io/) which is about to revolutionazie the field.\n",
    "- Most of the kernels shared on Kaggle ([including the winner](https://www.kaggle.com/c/PLAsTiCC-2018/discussion/75033))\n",
    "used some type of feature extraction process (e.g. modeling with gausian processes) and then ensemble models like LightGBM and different blends (like [here](https://www.kaggle.com/c/PLAsTiCC-2018/discussion/75012) or [here](https://www.kaggle.com/c/PLAsTiCC-2018/discussion/75050)). There were some trials on raw data modeling mostly using some form of RNNs.\n",
    "- In this notebook i want to try an **alternative solution: single functional Keras model combining raw flux inputs (light curve magnitudes on 6 passbands) with metadata and some basic extracted features. Raw flux inputs are reshaped into an array with errors as channels and 6 different passbands as the width of the array. As a results 2D CNN can be used.**\n",
    "- There are two key ingredients that seems to be crucial for high score on this dataset: 1. Data augmentation (original test set is very different from the training set, general quality of measurement is worst so some form of degradation is needed) 2. Predicting \"Unknown\" objects - class 99 for wich we do not have labeled training set. Both problems have been ommited in this notebook."
   ]
  },
  {
   "cell_type": "markdown",
   "metadata": {},
   "source": [
    "_____"
   ]
  },
  {
   "cell_type": "markdown",
   "metadata": {},
   "source": [
    "### SETUP"
   ]
  },
  {
   "cell_type": "code",
   "execution_count": 4,
   "metadata": {},
   "outputs": [],
   "source": [
    "import warnings\n",
    "warnings.filterwarnings('ignore')"
   ]
  },
  {
   "cell_type": "code",
   "execution_count": 179,
   "metadata": {},
   "outputs": [],
   "source": [
    "import os\n",
    "import gc\n",
    "import itertools\n",
    "from datetime import date, datetime\n",
    "import glob\n",
    "import random\n",
    "import pdb\n",
    "\n",
    "import numpy as np\n",
    "import pandas as pd\n",
    "import matplotlib.pyplot as plt\n",
    "import matplotlib.dates as mdates\n",
    "import seaborn as sns\n",
    "\n",
    "import tensorflow as tf\n",
    "from tensorflow.python.keras.utils import to_categorical\n",
    "from tensorflow.python.keras.preprocessing.sequence import pad_sequences\n",
    "from tensorflow.python.keras import optimizers, callbacks\n",
    "from tensorflow.python.keras.models import *\n",
    "from tensorflow.python.keras.layers import *\n",
    "from keras.utils.vis_utils import plot_model\n",
    "\n",
    "from sklearn.preprocessing import StandardScaler\n",
    "from sklearn.metrics import classification_report,  confusion_matrix\n",
    "from sklearn.model_selection import train_test_split\n",
    "\n",
    "from multiprocessing import Pool\n",
    "from numba import jit\n",
    "import h5py\n",
    "from astropy.table import Table\n",
    "from astropy.time import Time\n",
    "from tsfresh.feature_extraction import extract_features\n",
    "import tsfresh\n",
    "import feets"
   ]
  },
  {
   "cell_type": "code",
   "execution_count": 6,
   "metadata": {},
   "outputs": [
    {
     "data": {
      "text/plain": [
       "[_DeviceAttributes(/job:localhost/replica:0/task:0/device:CPU:0, CPU, 268435456, 2928760380853289520),\n",
       " _DeviceAttributes(/job:localhost/replica:0/task:0/device:XLA_GPU:0, XLA_GPU, 17179869184, 16114556978795669666),\n",
       " _DeviceAttributes(/job:localhost/replica:0/task:0/device:XLA_CPU:0, XLA_CPU, 17179869184, 9287609553933352383),\n",
       " _DeviceAttributes(/job:localhost/replica:0/task:0/device:GPU:0, GPU, 7931884340, 11156984987772858282)]"
      ]
     },
     "execution_count": 6,
     "metadata": {},
     "output_type": "execute_result"
    }
   ],
   "source": [
    "sess = tf.Session(config=tf.ConfigProto(log_device_placement=True))\n",
    "sess.list_devices()"
   ]
  },
  {
   "cell_type": "markdown",
   "metadata": {},
   "source": [
    "____"
   ]
  },
  {
   "cell_type": "markdown",
   "metadata": {},
   "source": [
    "### HELPERS"
   ]
  },
  {
   "cell_type": "code",
   "execution_count": 7,
   "metadata": {},
   "outputs": [],
   "source": [
    "def make_lcarr(object_id):\n",
    "    '''Extracts and reshapes light curve values into (6, 72, 2) format: passbands x length, errors->channels'''\n",
    "    lc = df[df['object_id'] == object_id].groupby(['passband']).apply(np.array).values\n",
    "    lo = []\n",
    "    for i in range(6):\n",
    "        p1 = lc[i][:,[2,3]] # flux, err columns\n",
    "        p2 = np.zeros(shape=(72, 2))\n",
    "        p2[:p1.shape[0],:p1.shape[1]] = p1\n",
    "        lo.append(p2)\n",
    "    return np.asarray(lo)"
   ]
  },
  {
   "cell_type": "code",
   "execution_count": 185,
   "metadata": {},
   "outputs": [],
   "source": [
    "def show_flux(array, ind=0):\n",
    "    plt.ylabel(\"channel\")\n",
    "    plt.imshow(array[ind][0:6,0:72,0])\n",
    "\n",
    "    \n",
    "def show_imgs(array, n=30):\n",
    "    plt.figure(figsize=(14, 6))\n",
    "    for i in range(n):\n",
    "        plt.gray()\n",
    "        ax = plt.subplot(n/3, 3, i+1)\n",
    "        show_flux(array, ind=i)\n",
    "        ax.get_xaxis().set_visible(False)\n",
    "        ax.get_yaxis().set_visible(False)\n",
    "    plt.show()\n",
    "\n",
    "def plot_training(history):\n",
    "    print(f\"Max val accuracy: {np.max(history.history['val_main_output_acc'])}\")\n",
    "    print(f\"Min val loss: {np.min(history.history['val_main_output_loss'])}\")\n",
    "    #print(history.history.keys())\n",
    "    \n",
    "    # summarize history for accuracy\n",
    "    #plt.subplot(1, 2, 1)\n",
    "    plt.plot(history.history['main_output_acc'])\n",
    "    plt.plot(history.history['val_main_output_acc'])\n",
    "    plt.title('model accuracy')\n",
    "    plt.ylabel('accuracy')\n",
    "    plt.xlabel('epoch')\n",
    "    plt.legend(['train', 'test'], loc='upper left')\n",
    "    plt.show()\n",
    "    \n",
    "    # summarize history for loss\n",
    "    # plt.subplot(1, 2, 2)\n",
    "    plt.plot(history.history['main_output_loss'])\n",
    "    plt.plot(history.history['val_main_output_loss'])\n",
    "    plt.title('model loss')\n",
    "    plt.ylabel('loss')\n",
    "    plt.xlabel('epoch')\n",
    "    plt.legend(['train', 'test'], loc='upper left')\n",
    "    plt.show()\n",
    "\n",
    "#https://gist.github.com/shaypal5/94c53d765083101efc0240d776a23823\n",
    "def print_confusion_matrix(confusion_matrix, class_names, figsize = (10,7), fontsize=14):\n",
    "    df_cm = pd.DataFrame(\n",
    "        confusion_matrix, index=class_names, columns=class_names, \n",
    "    )\n",
    "    fig = plt.figure(figsize=figsize)\n",
    "    try:\n",
    "        heatmap = sns.heatmap(df_cm, annot=True, fmt=\"d\")\n",
    "    except ValueError:\n",
    "        raise ValueError(\"Confusion matrix values must be integers.\")\n",
    "    heatmap.yaxis.set_ticklabels(heatmap.yaxis.get_ticklabels(), rotation=0, ha='right', fontsize=fontsize)\n",
    "    heatmap.xaxis.set_ticklabels(heatmap.xaxis.get_ticklabels(), rotation=45, ha='right', fontsize=fontsize)\n",
    "    plt.ylabel('True label')\n",
    "    plt.xlabel('Predicted label')\n",
    "    plt.plot()    "
   ]
  },
  {
   "cell_type": "markdown",
   "metadata": {},
   "source": [
    "____"
   ]
  },
  {
   "cell_type": "markdown",
   "metadata": {},
   "source": [
    "### LOAD DATA"
   ]
  },
  {
   "cell_type": "code",
   "execution_count": 124,
   "metadata": {},
   "outputs": [],
   "source": [
    "tr = pd.read_csv(\"../input/training_set.csv\")\n",
    "tr_meta = pd.read_csv(\"../input/training_set_metadata.csv\")\n",
    "\n",
    "assert(tr['object_id'].unique().tolist() == tr_meta['object_id'].unique().tolist())"
   ]
  },
  {
   "cell_type": "markdown",
   "metadata": {},
   "source": [
    "**Shuffle**"
   ]
  },
  {
   "cell_type": "code",
   "execution_count": 125,
   "metadata": {},
   "outputs": [],
   "source": [
    "objects_list = tr_meta['object_id'].unique().tolist()\n",
    "random.shuffle(objects_list)\n",
    "tr.set_index('object_id', inplace=True); tr_meta.set_index('object_id', inplace=True)\n",
    "tr = tr.loc[objects_list]\n",
    "tr_meta = tr_meta.loc[objects_list]\n",
    "tr.reset_index(inplace=True); tr_meta.reset_index(inplace=True)\n",
    "assert(tr['object_id'].unique().tolist() == tr_meta['object_id'].unique().tolist())"
   ]
  },
  {
   "cell_type": "markdown",
   "metadata": {},
   "source": [
    "**Single record**"
   ]
  },
  {
   "cell_type": "code",
   "execution_count": 127,
   "metadata": {},
   "outputs": [
    {
     "name": "stderr",
     "output_type": "stream",
     "text": [
      "WARNING: ErfaWarning: ERFA function \"d2dtf\" yielded 352 of \"dubious year (Note 5)\" [astropy._erfa.core]\n",
      "WARNING:astropy:ErfaWarning: ERFA function \"d2dtf\" yielded 352 of \"dubious year (Note 5)\"\n"
     ]
    },
    {
     "data": {
      "image/png": "[encoded data removed]",
      "text/plain": [
       "<Figure size 1296x360 with 1 Axes>"
      ]
     },
     "metadata": {},
     "output_type": "display_data"
    }
   ],
   "source": [
    "o1 = tr[tr['object_id'] == 615]\n",
    "o1['dtime'] = Time(o1['mjd'], format='mjd').datetime\n",
    "o1['passband'] = o1['passband'].apply(str)\n",
    "fig, ax = plt.subplots(figsize=(18,5))\n",
    "sns.stripplot(x='dtime', y='flux', data=o1, hue='passband')\n",
    "ax.xaxis.set_major_locator(mdates.WeekdayLocator())\n",
    "ax.xaxis.set_major_formatter(mdates.DateFormatter('%b %d'))\n",
    "plt.show()"
   ]
  },
  {
   "cell_type": "markdown",
   "metadata": {},
   "source": [
    "### PREP TARGETS"
   ]
  },
  {
   "cell_type": "code",
   "execution_count": 128,
   "metadata": {},
   "outputs": [
    {
     "name": "stdout",
     "output_type": "stream",
     "text": [
      "Unique classes : ['15', '16', '42', '52', '53', '6', '62', '64', '65', '67', '88', '90', '92', '95']\n",
      "Classes names: ['class_6', 'class_15', 'class_16', 'class_42', 'class_52', 'class_53', 'class_62', 'class_64', 'class_65', 'class_67', 'class_88', 'class_90', 'class_92', 'class_95']\n"
     ]
    }
   ],
   "source": [
    "y = tr_meta['target'].astype(str).tolist()\n",
    "classes = sorted(set(y))\n",
    "class_names = list(sample_sub.columns[1:-1])\n",
    "\n",
    "print(f'Unique classes : {classes}')\n",
    "print(f'Classes names: {class_names}') # missing class 99"
   ]
  },
  {
   "cell_type": "code",
   "execution_count": 129,
   "metadata": {},
   "outputs": [
    {
     "data": {
      "text/plain": [
       "array([[0., 0., 0., 0., 0., 0., 0., 0., 0., 0., 0., 0., 0., 1.],\n",
       "       [0., 0., 1., 0., 0., 0., 0., 0., 0., 0., 0., 0., 0., 0.],\n",
       "       [0., 0., 0., 0., 0., 0., 0., 0., 0., 0., 0., 1., 0., 0.],\n",
       "       [0., 0., 1., 0., 0., 0., 0., 0., 0., 0., 0., 0., 0., 0.],\n",
       "       [0., 0., 0., 0., 0., 0., 0., 0., 0., 0., 1., 0., 0., 0.]],\n",
       "      dtype=float32)"
      ]
     },
     "execution_count": 129,
     "metadata": {},
     "output_type": "execute_result"
    }
   ],
   "source": [
    "y_idx = [classes.index(y_i) for y_i in y]\n",
    "y_cat = to_categorical(y_idx)\n",
    "y_cat[0:5]"
   ]
  },
  {
   "cell_type": "markdown",
   "metadata": {},
   "source": [
    "### MAKE FLUX AND ERROR INPUTS"
   ]
  },
  {
   "cell_type": "code",
   "execution_count": 131,
   "metadata": {},
   "outputs": [],
   "source": [
    "# making grouped normalization faster with broadcasting:\n",
    "# https://stackoverflow.com/questions/26046208/normalize-dataframe-by-group\n",
    "def normalize_by_group(df, by):\n",
    "    groups = df.groupby(by)\n",
    "    mean = groups.transform(np.mean)\n",
    "    std = groups.transform(np.std)\n",
    "    return (df[mean.columns] - mean) / std"
   ]
  },
  {
   "cell_type": "code",
   "execution_count": 132,
   "metadata": {},
   "outputs": [
    {
     "name": "stdout",
     "output_type": "stream",
     "text": [
      "(7848, 6, 72, 2)\n",
      "CPU times: user 1.98 s, sys: 2.94 s, total: 4.91 s\n",
      "Wall time: 7.45 s\n"
     ]
    }
   ],
   "source": [
    "%%time\n",
    "# normalize flux and flux_err by star (loosing overall flux level)\n",
    "df = tr[['object_id', 'passband', 'flux', 'flux_err']]\n",
    "df.loc[:,['flux', 'flux_err']] = normalize_by_group(df, ['object_id', 'passband'])\n",
    "df.fillna(0, inplace=True)\n",
    "\n",
    "# multiprocess make array\n",
    "objects_list = df['object_id'].unique().tolist()\n",
    "pool = Pool(8)\n",
    "result = pool.map(make_lcarr, objects_list)\n",
    "pool.close()\n",
    "X = np.stack(result)\n",
    "\n",
    "print(X.shape)"
   ]
  },
  {
   "cell_type": "markdown",
   "metadata": {},
   "source": [
    "**Photometry data reshaped into 2D image-like format:**"
   ]
  },
  {
   "cell_type": "code",
   "execution_count": 160,
   "metadata": {},
   "outputs": [
    {
     "data": {
      "image/png": "[encoded data removed]",
      "text/plain": [
       "<Figure size 432x288 with 1 Axes>"
      ]
     },
     "metadata": {},
     "output_type": "display_data"
    }
   ],
   "source": [
    "show_flux(X, 9)"
   ]
  },
  {
   "cell_type": "code",
   "execution_count": 134,
   "metadata": {},
   "outputs": [
    {
     "data": {
      "image/png": "[encoded data removed]",
      "text/plain": [
       "<Figure size 1008x432 with 30 Axes>"
      ]
     },
     "metadata": {},
     "output_type": "display_data"
    }
   ],
   "source": [
    "show_imgs(X, 30)"
   ]
  },
  {
   "cell_type": "code",
   "execution_count": 135,
   "metadata": {},
   "outputs": [
    {
     "name": "stdout",
     "output_type": "stream",
     "text": [
      "X shape:(7848, 6, 72, 2) y_cat shape:(7848, 14)\n"
     ]
    }
   ],
   "source": [
    "print(\"X shape:{}\".format(X.shape), \"y_cat shape:{}\".format(y_cat.shape))"
   ]
  },
  {
   "cell_type": "markdown",
   "metadata": {},
   "source": [
    "- visible edges corresponding to rapid as well as gradients with different intensities for different channels\n",
    "- since sequences have different lengths, I pad them and fill missing data with zeros (since data are scaled and centered, 0 correspond to the mean of registered data for a given star)\n",
    "- aligning is problematic and CNN can help with that if missalignments between channels are non random (based on the description provided by organizers they are not)"
   ]
  },
  {
   "cell_type": "markdown",
   "metadata": {},
   "source": [
    "### SOME FEATURE EXTRACTION"
   ]
  },
  {
   "cell_type": "code",
   "execution_count": 136,
   "metadata": {},
   "outputs": [
    {
     "name": "stderr",
     "output_type": "stream",
     "text": [
      "Feature Extraction: 100%|██████████| 40/40 [00:21<00:00,  1.84it/s]\n",
      "Feature Extraction: 100%|██████████| 40/40 [00:00<00:00, 51.90it/s]\n"
     ]
    },
    {
     "name": "stdout",
     "output_type": "stream",
     "text": [
      "CPU times: user 25.5 s, sys: 10.1 s, total: 35.6 s\n",
      "Wall time: 38.4 s\n"
     ]
    }
   ],
   "source": [
    "%%time\n",
    "gc.enable()\n",
    "\n",
    "train = tr\n",
    "train['flux_ratio_sq'] = np.power(train['flux'] / train['flux_err'], 2.0)\n",
    "train['flux_by_flux_ratio_sq'] = train['flux'] * train['flux_ratio_sq']\n",
    "\n",
    "aggs = {\n",
    "    'mjd': ['min', 'max'],\n",
    "    'flux': ['min', 'max', 'mean', 'median', 'std','skew'],\n",
    "    'flux_err': ['min', 'max', 'mean', 'median', 'std','skew'],\n",
    "    'detected': ['mean'],\n",
    "    'flux_ratio_sq':['sum','skew'],\n",
    "    'flux_by_flux_ratio_sq':['sum','skew'],\n",
    "}\n",
    "\n",
    "fcp = {\n",
    "    'kurtosis' : None,\n",
    "    'skewness' : None,\n",
    "    'count_above_mean' : None,\n",
    "    'longest_strike_above_mean' : None,\n",
    "    'number_peaks' : [{'n' : 2}],\n",
    "    'abs_energy': None,\n",
    "    'sample_entropy' : None,\n",
    "    'absolute_sum_of_changes' : None,\n",
    "    'cid_ce' : [{'normalize' : True}],\n",
    "    'fft_coefficient': [{'coeff': 0, 'attr': 'abs'}, {'coeff': 1, 'attr': 'abs'}]\n",
    "}\n",
    "\n",
    "agg_train = train.groupby('object_id').agg(aggs)\n",
    "new_columns = [k + '_' + agg for k in aggs.keys() for agg in aggs[k]]\n",
    "agg_train.columns = new_columns\n",
    "agg_train['mjd_diff'] = agg_train['mjd_max'] - agg_train['mjd_min']\n",
    "agg_train['flux_diff'] = agg_train['flux_max'] - agg_train['flux_min']\n",
    "agg_train['flux_dif2'] = (agg_train['flux_max'] - agg_train['flux_min']) / agg_train['flux_mean']\n",
    "agg_train['flux_w_mean'] = agg_train['flux_by_flux_ratio_sq_sum'] / agg_train['flux_ratio_sq_sum']\n",
    "agg_train['flux_dif3'] = (agg_train['flux_max'] - agg_train['flux_min']) / agg_train['flux_w_mean']\n",
    "del agg_train['mjd_max'], agg_train['mjd_min']\n",
    "\n",
    "# Add more features with tsfresh\n",
    "agg_df_ts = extract_features(train, column_id='object_id',\n",
    "                             column_sort='mjd',\n",
    "                             column_kind='passband',\n",
    "                             column_value = 'flux',\n",
    "                             default_fc_parameters = fcp,\n",
    "                             n_jobs=8)\n",
    "df_det = train[train['detected']==1].copy()\n",
    "\n",
    "agg_df_mjd = extract_features(df_det,\n",
    "                              column_id='object_id',\n",
    "                              column_value = 'mjd',\n",
    "                              default_fc_parameters = {'maximum':None, 'minimum':None},\n",
    "                              n_jobs=8)\n",
    "\n",
    "agg_df_mjd['mjd_diff_det'] = agg_df_mjd['mjd__maximum'] - agg_df_mjd['mjd__minimum']\n",
    "del agg_df_mjd['mjd__maximum'], agg_df_mjd['mjd__minimum']\n",
    "agg_df_ts = pd.merge(agg_df_ts, agg_df_mjd, on = 'id')\n",
    "\n",
    "# tsfresh returns a dataframe with an index name='id'\n",
    "agg_df_ts.index.rename('object_id',inplace=True)\n",
    "agg_train = pd.merge(agg_train, agg_df_ts, on='object_id')\n",
    "\n",
    "del train\n",
    "gc.collect()"
   ]
  },
  {
   "cell_type": "code",
   "execution_count": 138,
   "metadata": {},
   "outputs": [
    {
     "data": {
      "text/html": [
       "<div>\n",
       "<style scoped>\n",
       "    .dataframe tbody tr th:only-of-type {\n",
       "        vertical-align: middle;\n",
       "    }\n",
       "\n",
       "    .dataframe tbody tr th {\n",
       "        vertical-align: top;\n",
       "    }\n",
       "\n",
       "    .dataframe thead th {\n",
       "        text-align: right;\n",
       "    }\n",
       "</style>\n",
       "<table border=\"1\" class=\"dataframe\">\n",
       "  <thead>\n",
       "    <tr style=\"text-align: right;\">\n",
       "      <th></th>\n",
       "      <th>index</th>\n",
       "      <th>object_id</th>\n",
       "      <th>flux_min</th>\n",
       "      <th>flux_max</th>\n",
       "      <th>flux_mean</th>\n",
       "      <th>flux_median</th>\n",
       "      <th>flux_std</th>\n",
       "      <th>flux_skew</th>\n",
       "      <th>flux_err_min</th>\n",
       "      <th>flux_err_max</th>\n",
       "      <th>...</th>\n",
       "      <th>5__cid_ce__normalize_True</th>\n",
       "      <th>5__count_above_mean</th>\n",
       "      <th>5__fft_coefficient__coeff_0__attr_\"abs\"</th>\n",
       "      <th>5__fft_coefficient__coeff_1__attr_\"abs\"</th>\n",
       "      <th>5__kurtosis</th>\n",
       "      <th>5__longest_strike_above_mean</th>\n",
       "      <th>5__number_peaks__n_2</th>\n",
       "      <th>5__sample_entropy</th>\n",
       "      <th>5__skewness</th>\n",
       "      <th>mjd_diff_det</th>\n",
       "    </tr>\n",
       "  </thead>\n",
       "  <tbody>\n",
       "    <tr>\n",
       "      <th>0</th>\n",
       "      <td>0</td>\n",
       "      <td>615</td>\n",
       "      <td>-1100.440063</td>\n",
       "      <td>660.626343</td>\n",
       "      <td>-123.096998</td>\n",
       "      <td>-89.477524</td>\n",
       "      <td>394.109851</td>\n",
       "      <td>-0.349540</td>\n",
       "      <td>2.130510</td>\n",
       "      <td>12.845472</td>\n",
       "      <td>...</td>\n",
       "      <td>9.550230</td>\n",
       "      <td>27.0</td>\n",
       "      <td>2704.641265</td>\n",
       "      <td>2893.344217</td>\n",
       "      <td>-1.592820</td>\n",
       "      <td>5.0</td>\n",
       "      <td>11.0</td>\n",
       "      <td>1.886318</td>\n",
       "      <td>0.125268</td>\n",
       "      <td>873.7903</td>\n",
       "    </tr>\n",
       "    <tr>\n",
       "      <th>1</th>\n",
       "      <td>1</td>\n",
       "      <td>713</td>\n",
       "      <td>-14.735178</td>\n",
       "      <td>14.770886</td>\n",
       "      <td>-1.423351</td>\n",
       "      <td>-0.873033</td>\n",
       "      <td>6.471144</td>\n",
       "      <td>0.014989</td>\n",
       "      <td>0.639458</td>\n",
       "      <td>9.115748</td>\n",
       "      <td>...</td>\n",
       "      <td>7.607781</td>\n",
       "      <td>26.0</td>\n",
       "      <td>100.473776</td>\n",
       "      <td>143.963093</td>\n",
       "      <td>-0.797047</td>\n",
       "      <td>8.0</td>\n",
       "      <td>9.0</td>\n",
       "      <td>2.302585</td>\n",
       "      <td>0.218182</td>\n",
       "      <td>846.8017</td>\n",
       "    </tr>\n",
       "    <tr>\n",
       "      <th>2</th>\n",
       "      <td>2</td>\n",
       "      <td>730</td>\n",
       "      <td>-19.159811</td>\n",
       "      <td>47.310059</td>\n",
       "      <td>2.267434</td>\n",
       "      <td>0.409172</td>\n",
       "      <td>8.022239</td>\n",
       "      <td>3.177854</td>\n",
       "      <td>0.695106</td>\n",
       "      <td>11.281384</td>\n",
       "      <td>...</td>\n",
       "      <td>6.403841</td>\n",
       "      <td>19.0</td>\n",
       "      <td>231.509177</td>\n",
       "      <td>199.286370</td>\n",
       "      <td>3.583130</td>\n",
       "      <td>7.0</td>\n",
       "      <td>8.0</td>\n",
       "      <td>1.813163</td>\n",
       "      <td>1.680352</td>\n",
       "      <td>78.7737</td>\n",
       "    </tr>\n",
       "    <tr>\n",
       "      <th>3</th>\n",
       "      <td>3</td>\n",
       "      <td>745</td>\n",
       "      <td>-15.494463</td>\n",
       "      <td>220.795212</td>\n",
       "      <td>8.909206</td>\n",
       "      <td>1.035895</td>\n",
       "      <td>27.558208</td>\n",
       "      <td>4.979826</td>\n",
       "      <td>0.567170</td>\n",
       "      <td>55.892746</td>\n",
       "      <td>...</td>\n",
       "      <td>6.637178</td>\n",
       "      <td>15.0</td>\n",
       "      <td>591.037583</td>\n",
       "      <td>523.503586</td>\n",
       "      <td>12.134629</td>\n",
       "      <td>10.0</td>\n",
       "      <td>11.0</td>\n",
       "      <td>1.321756</td>\n",
       "      <td>3.170857</td>\n",
       "      <td>123.6872</td>\n",
       "    </tr>\n",
       "    <tr>\n",
       "      <th>4</th>\n",
       "      <td>4</td>\n",
       "      <td>1124</td>\n",
       "      <td>-16.543753</td>\n",
       "      <td>143.600189</td>\n",
       "      <td>7.145702</td>\n",
       "      <td>1.141288</td>\n",
       "      <td>20.051722</td>\n",
       "      <td>4.406298</td>\n",
       "      <td>0.695277</td>\n",
       "      <td>11.383690</td>\n",
       "      <td>...</td>\n",
       "      <td>6.630402</td>\n",
       "      <td>13.0</td>\n",
       "      <td>393.114268</td>\n",
       "      <td>357.907185</td>\n",
       "      <td>14.434470</td>\n",
       "      <td>6.0</td>\n",
       "      <td>9.0</td>\n",
       "      <td>1.231070</td>\n",
       "      <td>3.657305</td>\n",
       "      <td>133.9113</td>\n",
       "    </tr>\n",
       "  </tbody>\n",
       "</table>\n",
       "<p>5 rows × 91 columns</p>\n",
       "</div>"
      ],
      "text/plain": [
       "   index  object_id     flux_min    flux_max   flux_mean  flux_median  \\\n",
       "0      0        615 -1100.440063  660.626343 -123.096998   -89.477524   \n",
       "1      1        713   -14.735178   14.770886   -1.423351    -0.873033   \n",
       "2      2        730   -19.159811   47.310059    2.267434     0.409172   \n",
       "3      3        745   -15.494463  220.795212    8.909206     1.035895   \n",
       "4      4       1124   -16.543753  143.600189    7.145702     1.141288   \n",
       "\n",
       "     flux_std  flux_skew  flux_err_min  flux_err_max      ...       \\\n",
       "0  394.109851  -0.349540      2.130510     12.845472      ...        \n",
       "1    6.471144   0.014989      0.639458      9.115748      ...        \n",
       "2    8.022239   3.177854      0.695106     11.281384      ...        \n",
       "3   27.558208   4.979826      0.567170     55.892746      ...        \n",
       "4   20.051722   4.406298      0.695277     11.383690      ...        \n",
       "\n",
       "   5__cid_ce__normalize_True  5__count_above_mean  \\\n",
       "0                   9.550230                 27.0   \n",
       "1                   7.607781                 26.0   \n",
       "2                   6.403841                 19.0   \n",
       "3                   6.637178                 15.0   \n",
       "4                   6.630402                 13.0   \n",
       "\n",
       "   5__fft_coefficient__coeff_0__attr_\"abs\"  \\\n",
       "0                              2704.641265   \n",
       "1                               100.473776   \n",
       "2                               231.509177   \n",
       "3                               591.037583   \n",
       "4                               393.114268   \n",
       "\n",
       "   5__fft_coefficient__coeff_1__attr_\"abs\"  5__kurtosis  \\\n",
       "0                              2893.344217    -1.592820   \n",
       "1                               143.963093    -0.797047   \n",
       "2                               199.286370     3.583130   \n",
       "3                               523.503586    12.134629   \n",
       "4                               357.907185    14.434470   \n",
       "\n",
       "   5__longest_strike_above_mean  5__number_peaks__n_2  5__sample_entropy  \\\n",
       "0                           5.0                  11.0           1.886318   \n",
       "1                           8.0                   9.0           2.302585   \n",
       "2                           7.0                   8.0           1.813163   \n",
       "3                          10.0                  11.0           1.321756   \n",
       "4                           6.0                   9.0           1.231070   \n",
       "\n",
       "   5__skewness  mjd_diff_det  \n",
       "0     0.125268      873.7903  \n",
       "1     0.218182      846.8017  \n",
       "2     1.680352       78.7737  \n",
       "3     3.170857      123.6872  \n",
       "4     3.657305      133.9113  \n",
       "\n",
       "[5 rows x 91 columns]"
      ]
     },
     "execution_count": 138,
     "metadata": {},
     "output_type": "execute_result"
    }
   ],
   "source": [
    "agg_train.reset_index(inplace=True)\n",
    "agg_train.head()"
   ]
  },
  {
   "cell_type": "markdown",
   "metadata": {},
   "source": [
    "____"
   ]
  },
  {
   "cell_type": "markdown",
   "metadata": {},
   "source": [
    "### MAKE META DATA INPUTS"
   ]
  },
  {
   "cell_type": "code",
   "execution_count": 139,
   "metadata": {},
   "outputs": [],
   "source": [
    "x_meta = tr_meta\n",
    "x_meta = x_meta.merge(right=agg_train, how='left', on='object_id')\n",
    "x_meta = x_meta.drop(['object_id', 'target', 'distmod', 'hostgal_photoz'], axis=1)\n",
    "x_meta.replace([np.inf, -np.inf], np.nan, inplace=True)\n",
    "x_meta.fillna(0, inplace=True)"
   ]
  },
  {
   "cell_type": "code",
   "execution_count": 140,
   "metadata": {},
   "outputs": [
    {
     "data": {
      "text/html": [
       "<div>\n",
       "<style scoped>\n",
       "    .dataframe tbody tr th:only-of-type {\n",
       "        vertical-align: middle;\n",
       "    }\n",
       "\n",
       "    .dataframe tbody tr th {\n",
       "        vertical-align: top;\n",
       "    }\n",
       "\n",
       "    .dataframe thead th {\n",
       "        text-align: right;\n",
       "    }\n",
       "</style>\n",
       "<table border=\"1\" class=\"dataframe\">\n",
       "  <thead>\n",
       "    <tr style=\"text-align: right;\">\n",
       "      <th></th>\n",
       "      <th>ra</th>\n",
       "      <th>decl</th>\n",
       "      <th>gal_l</th>\n",
       "      <th>gal_b</th>\n",
       "      <th>ddf</th>\n",
       "      <th>hostgal_specz</th>\n",
       "      <th>hostgal_photoz_err</th>\n",
       "      <th>mwebv</th>\n",
       "      <th>index</th>\n",
       "      <th>flux_min</th>\n",
       "      <th>...</th>\n",
       "      <th>5__cid_ce__normalize_True</th>\n",
       "      <th>5__count_above_mean</th>\n",
       "      <th>5__fft_coefficient__coeff_0__attr_\"abs\"</th>\n",
       "      <th>5__fft_coefficient__coeff_1__attr_\"abs\"</th>\n",
       "      <th>5__kurtosis</th>\n",
       "      <th>5__longest_strike_above_mean</th>\n",
       "      <th>5__number_peaks__n_2</th>\n",
       "      <th>5__sample_entropy</th>\n",
       "      <th>5__skewness</th>\n",
       "      <th>mjd_diff_det</th>\n",
       "    </tr>\n",
       "  </thead>\n",
       "  <tbody>\n",
       "    <tr>\n",
       "      <th>0</th>\n",
       "      <td>187.734375</td>\n",
       "      <td>-33.331287</td>\n",
       "      <td>298.020068</td>\n",
       "      <td>29.344867</td>\n",
       "      <td>0</td>\n",
       "      <td>2.0746</td>\n",
       "      <td>0.2232</td>\n",
       "      <td>0.072</td>\n",
       "      <td>6026</td>\n",
       "      <td>-75.885254</td>\n",
       "      <td>...</td>\n",
       "      <td>6.796953</td>\n",
       "      <td>15.0</td>\n",
       "      <td>450.122804</td>\n",
       "      <td>579.229447</td>\n",
       "      <td>0.399624</td>\n",
       "      <td>10.0</td>\n",
       "      <td>5.0</td>\n",
       "      <td>2.186586</td>\n",
       "      <td>0.116509</td>\n",
       "      <td>19.0174</td>\n",
       "    </tr>\n",
       "    <tr>\n",
       "      <th>1</th>\n",
       "      <td>18.281250</td>\n",
       "      <td>-34.409527</td>\n",
       "      <td>271.674092</td>\n",
       "      <td>-81.359695</td>\n",
       "      <td>0</td>\n",
       "      <td>0.2335</td>\n",
       "      <td>0.0118</td>\n",
       "      <td>0.017</td>\n",
       "      <td>4758</td>\n",
       "      <td>-36.408535</td>\n",
       "      <td>...</td>\n",
       "      <td>7.244253</td>\n",
       "      <td>12.0</td>\n",
       "      <td>571.067473</td>\n",
       "      <td>229.880410</td>\n",
       "      <td>0.245044</td>\n",
       "      <td>4.0</td>\n",
       "      <td>5.0</td>\n",
       "      <td>2.063441</td>\n",
       "      <td>0.717567</td>\n",
       "      <td>31.9866</td>\n",
       "    </tr>\n",
       "    <tr>\n",
       "      <th>2</th>\n",
       "      <td>185.097656</td>\n",
       "      <td>-14.477512</td>\n",
       "      <td>291.724247</td>\n",
       "      <td>47.717463</td>\n",
       "      <td>0</td>\n",
       "      <td>0.3652</td>\n",
       "      <td>0.0142</td>\n",
       "      <td>0.046</td>\n",
       "      <td>6631</td>\n",
       "      <td>-82.923943</td>\n",
       "      <td>...</td>\n",
       "      <td>7.566211</td>\n",
       "      <td>15.0</td>\n",
       "      <td>293.737941</td>\n",
       "      <td>428.584933</td>\n",
       "      <td>1.573874</td>\n",
       "      <td>6.0</td>\n",
       "      <td>5.0</td>\n",
       "      <td>2.094709</td>\n",
       "      <td>-0.190005</td>\n",
       "      <td>39.8510</td>\n",
       "    </tr>\n",
       "    <tr>\n",
       "      <th>3</th>\n",
       "      <td>152.402344</td>\n",
       "      <td>-3.583322</td>\n",
       "      <td>244.755230</td>\n",
       "      <td>40.342970</td>\n",
       "      <td>0</td>\n",
       "      <td>0.2436</td>\n",
       "      <td>0.4242</td>\n",
       "      <td>0.026</td>\n",
       "      <td>6862</td>\n",
       "      <td>-59.913097</td>\n",
       "      <td>...</td>\n",
       "      <td>6.351670</td>\n",
       "      <td>9.0</td>\n",
       "      <td>439.255003</td>\n",
       "      <td>431.597955</td>\n",
       "      <td>4.318127</td>\n",
       "      <td>3.0</td>\n",
       "      <td>6.0</td>\n",
       "      <td>1.550597</td>\n",
       "      <td>1.999423</td>\n",
       "      <td>214.3488</td>\n",
       "    </tr>\n",
       "    <tr>\n",
       "      <th>4</th>\n",
       "      <td>180.000000</td>\n",
       "      <td>3.433834</td>\n",
       "      <td>273.292126</td>\n",
       "      <td>63.306186</td>\n",
       "      <td>0</td>\n",
       "      <td>0.4076</td>\n",
       "      <td>0.0370</td>\n",
       "      <td>0.021</td>\n",
       "      <td>6965</td>\n",
       "      <td>-53.988014</td>\n",
       "      <td>...</td>\n",
       "      <td>5.335306</td>\n",
       "      <td>6.0</td>\n",
       "      <td>27.984200</td>\n",
       "      <td>106.358564</td>\n",
       "      <td>-1.120356</td>\n",
       "      <td>3.0</td>\n",
       "      <td>1.0</td>\n",
       "      <td>2.908721</td>\n",
       "      <td>0.104259</td>\n",
       "      <td>442.7786</td>\n",
       "    </tr>\n",
       "  </tbody>\n",
       "</table>\n",
       "<p>5 rows × 98 columns</p>\n",
       "</div>"
      ],
      "text/plain": [
       "           ra       decl       gal_l      gal_b  ddf  hostgal_specz  \\\n",
       "0  187.734375 -33.331287  298.020068  29.344867    0         2.0746   \n",
       "1   18.281250 -34.409527  271.674092 -81.359695    0         0.2335   \n",
       "2  185.097656 -14.477512  291.724247  47.717463    0         0.3652   \n",
       "3  152.402344  -3.583322  244.755230  40.342970    0         0.2436   \n",
       "4  180.000000   3.433834  273.292126  63.306186    0         0.4076   \n",
       "\n",
       "   hostgal_photoz_err  mwebv  index   flux_min      ...       \\\n",
       "0              0.2232  0.072   6026 -75.885254      ...        \n",
       "1              0.0118  0.017   4758 -36.408535      ...        \n",
       "2              0.0142  0.046   6631 -82.923943      ...        \n",
       "3              0.4242  0.026   6862 -59.913097      ...        \n",
       "4              0.0370  0.021   6965 -53.988014      ...        \n",
       "\n",
       "   5__cid_ce__normalize_True  5__count_above_mean  \\\n",
       "0                   6.796953                 15.0   \n",
       "1                   7.244253                 12.0   \n",
       "2                   7.566211                 15.0   \n",
       "3                   6.351670                  9.0   \n",
       "4                   5.335306                  6.0   \n",
       "\n",
       "   5__fft_coefficient__coeff_0__attr_\"abs\"  \\\n",
       "0                               450.122804   \n",
       "1                               571.067473   \n",
       "2                               293.737941   \n",
       "3                               439.255003   \n",
       "4                                27.984200   \n",
       "\n",
       "   5__fft_coefficient__coeff_1__attr_\"abs\"  5__kurtosis  \\\n",
       "0                               579.229447     0.399624   \n",
       "1                               229.880410     0.245044   \n",
       "2                               428.584933     1.573874   \n",
       "3                               431.597955     4.318127   \n",
       "4                               106.358564    -1.120356   \n",
       "\n",
       "   5__longest_strike_above_mean  5__number_peaks__n_2  5__sample_entropy  \\\n",
       "0                          10.0                   5.0           2.186586   \n",
       "1                           4.0                   5.0           2.063441   \n",
       "2                           6.0                   5.0           2.094709   \n",
       "3                           3.0                   6.0           1.550597   \n",
       "4                           3.0                   1.0           2.908721   \n",
       "\n",
       "   5__skewness  mjd_diff_det  \n",
       "0     0.116509       19.0174  \n",
       "1     0.717567       31.9866  \n",
       "2    -0.190005       39.8510  \n",
       "3     1.999423      214.3488  \n",
       "4     0.104259      442.7786  \n",
       "\n",
       "[5 rows x 98 columns]"
      ]
     },
     "execution_count": 140,
     "metadata": {},
     "output_type": "execute_result"
    }
   ],
   "source": [
    "x_meta.head()"
   ]
  },
  {
   "cell_type": "markdown",
   "metadata": {},
   "source": [
    "** Split and scale **"
   ]
  },
  {
   "cell_type": "code",
   "execution_count": 142,
   "metadata": {},
   "outputs": [],
   "source": [
    "x_train, x_test, y_train, y_test = train_test_split(X, y_cat, test_size=0.2, random_state=123)\n",
    "x_meta_train, x_meta_test, y_train, y_test = train_test_split(x_meta, y_cat, test_size=0.2, random_state=123)"
   ]
  },
  {
   "cell_type": "code",
   "execution_count": 143,
   "metadata": {},
   "outputs": [],
   "source": [
    "scaler = StandardScaler()\n",
    "x_meta_train[list(x_meta_train.columns)] = scaler.fit_transform(x_meta_train[list(x_meta_train.columns)])\n",
    "x_meta_test[list(x_meta_test.columns)] = scaler.transform(x_meta_test[list(x_meta_test.columns)])\n",
    "x_meta_train = np.array(x_meta_train)\n",
    "x_meta_test = np.array(x_meta_test)"
   ]
  },
  {
   "cell_type": "markdown",
   "metadata": {},
   "source": [
    "____"
   ]
  },
  {
   "cell_type": "markdown",
   "metadata": {},
   "source": [
    "### MODEL"
   ]
  },
  {
   "cell_type": "code",
   "execution_count": 144,
   "metadata": {},
   "outputs": [],
   "source": [
    "myadam = optimizers.adam(lr=0.01)\n",
    "reduce_lr = callbacks.ReduceLROnPlateau(monitor='val_loss', factor=0.2, patience=4, min_lr=0.0005)"
   ]
  },
  {
   "cell_type": "code",
   "execution_count": 149,
   "metadata": {},
   "outputs": [],
   "source": [
    "flux_input = Input(shape=(6, 72, 2), name='main_input')\n",
    "x = Conv2D(250, kernel_size=(3, 3), activation='relu', name='conv1')(flux_input)\n",
    "x = BatchNormalization()(x)\n",
    "x = Dropout(0.6)(x)\n",
    "x = GlobalAvgPool2D()(x) #!!!\n",
    "x = Dense(150, activation='relu')(x)\n",
    "x = BatchNormalization()(x)\n",
    "x = Dropout(0.6)(x)\n",
    "x = Dense(100, activation='relu')(x)\n",
    "x = BatchNormalization()(x)\n",
    "x = Dropout(0.6)(x)\n",
    "auxiliary_output = Dense(len(classes), activation='softmax', name='aux_output')(x)\n",
    "meta_input = Input(shape=(98,), name='meta_input')\n",
    "x = concatenate([x, meta_input])\n",
    "x = Dense(150, activation='relu')(x)\n",
    "x = BatchNormalization()(x)\n",
    "x = Dropout(0.6)(x)\n",
    "main_output = Dense(len(classes), activation='softmax', name='main_output')(x)\n",
    "\n",
    "model = Model(inputs=[flux_input, meta_input], outputs=[main_output, auxiliary_output])\n",
    "#model.compile(optimizer='adam', loss=mywloss, metrics=['accuracy'])\n",
    "model.compile(optimizer='adam', loss='categorical_crossentropy', metrics=['accuracy'])\n",
    "#model.summary()"
   ]
  },
  {
   "cell_type": "markdown",
   "metadata": {},
   "source": [
    "- Stage 1: raw flux data from 6 passbands together with errors are passed through 2D conv layer, summarized with global average pooling and passed through one fully connected layer\n",
    "- Stage 2: the output is concatenated with meta features and together passed through two more fully connected layers\n",
    "- Dropout and batchnormalization are added between all steps"
   ]
  },
  {
   "cell_type": "code",
   "execution_count": 187,
   "metadata": {},
   "outputs": [],
   "source": [
    "plot_model(model, to_file='../media/cnn_plus.png', show_shapes=True, show_layer_names=True)"
   ]
  },
  {
   "cell_type": "markdown",
   "metadata": {},
   "source": [
    "<center><img width = 650 src=\"../media/cnn_plus.png\"></img></center>"
   ]
  },
  {
   "cell_type": "markdown",
   "metadata": {},
   "source": [
    "____"
   ]
  },
  {
   "cell_type": "markdown",
   "metadata": {},
   "source": [
    "### TRAINING"
   ]
  },
  {
   "cell_type": "code",
   "execution_count": 151,
   "metadata": {},
   "outputs": [
    {
     "name": "stdout",
     "output_type": "stream",
     "text": [
      "CPU times: user 5min 26s, sys: 1min 1s, total: 6min 28s\n",
      "Wall time: 4min 53s\n"
     ]
    }
   ],
   "source": [
    "%%time\n",
    "history = model.fit([x_train, x_meta_train], [y_train, y_train],\n",
    "                    validation_data=([x_test, x_meta_test], [y_test, y_test]),\n",
    "                    epochs=300,\n",
    "                    batch_size=128,\n",
    "                    shuffle=True,\n",
    "                    verbose=False) "
   ]
  },
  {
   "cell_type": "code",
   "execution_count": 161,
   "metadata": {},
   "outputs": [
    {
     "name": "stdout",
     "output_type": "stream",
     "text": [
      "Max val accuracy: 0.7961783435693972\n",
      "Min val loss: 0.6308446193956265\n"
     ]
    },
    {
     "data": {
      "image/png": "[encoded data removed]",
      "text/plain": [
       "<Figure size 432x288 with 1 Axes>"
      ]
     },
     "metadata": {},
     "output_type": "display_data"
    },
    {
     "data": {
      "image/png": "[encoded data removed]",
      "text/plain": [
       "<Figure size 432x288 with 1 Axes>"
      ]
     },
     "metadata": {},
     "output_type": "display_data"
    }
   ],
   "source": [
    "plot_training(history)"
   ]
  },
  {
   "cell_type": "code",
   "execution_count": null,
   "metadata": {},
   "outputs": [],
   "source": [
    "model_name = \"fun_cnn_72days_err_2_300\"\n",
    "model.save(f'../models/{model_name}.h5')"
   ]
  },
  {
   "cell_type": "markdown",
   "metadata": {},
   "source": [
    "### RESULTS"
   ]
  },
  {
   "cell_type": "code",
   "execution_count": 174,
   "metadata": {},
   "outputs": [],
   "source": [
    "preds = model.predict([x_test, x_meta_test])[0]\n",
    "y_pred_idx = np.argmax(preds, axis=1).tolist()\n",
    "y_pred_name = [class_names[idx] for idx in y_pred_idx]\n",
    "y_true_idx = np.argmax(y_test, axis=1).tolist()\n",
    "y_true_name = [class_names[idx] for idx in y_true_idx]"
   ]
  },
  {
   "cell_type": "code",
   "execution_count": 176,
   "metadata": {},
   "outputs": [
    {
     "name": "stdout",
     "output_type": "stream",
     "text": [
      "             precision    recall  f1-score   support\n",
      "\n",
      "   class_15       0.96      1.00      0.98       161\n",
      "   class_16       0.66      0.64      0.65       254\n",
      "   class_42       0.33      0.03      0.05        38\n",
      "   class_52       1.00      0.40      0.57         5\n",
      "   class_53       0.95      0.70      0.81        27\n",
      "    class_6       0.67      0.63      0.65        87\n",
      "   class_62       0.48      0.36      0.41       101\n",
      "   class_64       0.87      0.52      0.65        25\n",
      "   class_65       0.95      0.99      0.97       195\n",
      "   class_67       0.71      0.21      0.33        47\n",
      "   class_88       0.96      1.00      0.98        70\n",
      "   class_90       0.75      0.92      0.82       464\n",
      "   class_92       0.98      0.98      0.98        54\n",
      "   class_95       0.95      0.93      0.94        42\n",
      "\n",
      "avg / total       0.78      0.79      0.77      1570\n",
      "\n"
     ]
    }
   ],
   "source": [
    "print(classification_report(y_true_name, y_pred_name))"
   ]
  },
  {
   "cell_type": "markdown",
   "metadata": {},
   "source": [
    "With such a small sample and unbalanced dataset some classes are almost absent in the validation set."
   ]
  },
  {
   "cell_type": "code",
   "execution_count": 186,
   "metadata": {},
   "outputs": [
    {
     "data": {
      "image/png": "[encoded data removed]",
      "text/plain": [
       "<Figure size 720x504 with 2 Axes>"
      ]
     },
     "metadata": {},
     "output_type": "display_data"
    }
   ],
   "source": [
    "cm = confusion_matrix(y_true_name, y_pred_name)\n",
    "print_confusion_matrix(cm, class_names)"
   ]
  },
  {
   "cell_type": "markdown",
   "metadata": {},
   "source": [
    "Some of the classes are very easy to pick up with this approach (90!) while others, especially the ones with only few examples, are easily confused with bigger groups (62?). Some form of weightining for loss would be needed depending on class importance."
   ]
  }
 ],
 "metadata": {
  "kernelspec": {
   "display_name": "Python 3",
   "language": "python",
   "name": "python3"
  },
  "language_info": {
   "codemirror_mode": {
    "name": "ipython",
    "version": 3
   },
   "file_extension": ".py",
   "mimetype": "text/x-python",
   "name": "python",
   "nbconvert_exporter": "python",
   "pygments_lexer": "ipython3",
   "version": "3.6.7"
  }
 },
 "nbformat": 4,
 "nbformat_minor": 2
}
